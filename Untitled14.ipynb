{
 "cells": [
  {
   "cell_type": "code",
   "execution_count": 2,
   "id": "f193a3ce",
   "metadata": {},
   "outputs": [
    {
     "name": "stdout",
     "output_type": "stream",
     "text": [
      "Collecting fpdf\n",
      "  Downloading fpdf-1.7.2.tar.gz (39 kB)\n",
      "  Preparing metadata (setup.py): started\n",
      "  Preparing metadata (setup.py): finished with status 'done'\n",
      "Building wheels for collected packages: fpdf\n",
      "  Building wheel for fpdf (setup.py): started\n",
      "  Building wheel for fpdf (setup.py): finished with status 'done'\n",
      "  Created wheel for fpdf: filename=fpdf-1.7.2-py2.py3-none-any.whl size=40722 sha256=87f774db82332e70e0d7b95e11a4717606937bc7188614ebafe1f96702374848\n",
      "  Stored in directory: c:\\users\\farsharb\\appdata\\local\\pip\\cache\\wheels\\44\\35\\8b\\86ce00cec7e4d13c5f189680ae0fa82f919bedc066c2cddae9\n",
      "Successfully built fpdf\n",
      "Installing collected packages: fpdf\n",
      "Successfully installed fpdf-1.7.2\n"
     ]
    }
   ],
   "source": [
    "!pip install fpdf"
   ]
  },
  {
   "cell_type": "code",
   "execution_count": 30,
   "id": "8cfc595e",
   "metadata": {},
   "outputs": [],
   "source": [
    "from fpdf import FPDF"
   ]
  },
  {
   "cell_type": "code",
   "execution_count": 61,
   "id": "01c05816",
   "metadata": {},
   "outputs": [
    {
     "data": {
      "text/plain": [
       "''"
      ]
     },
     "execution_count": 61,
     "metadata": {},
     "output_type": "execute_result"
    }
   ],
   "source": [
    "title='Report'\n",
    "\n",
    "class PDF(FPDF):\n",
    "    def header(self):\n",
    "        self.set_font('helvetica', 'B', 15)\n",
    "        title_w=self.get_string_width(title)+6\n",
    "        doc_w=self.w\n",
    "        self.set_x((doc_w - title_w)/2)\n",
    "        self.set_draw_color(0, 80, 100)\n",
    "        self.set_fill_color(0, 80, 100)\n",
    "        self.set_text_color(255, 255, 255)\n",
    "        self.set_line_width(1)\n",
    "        self.cell(title_w, 10, title, border=1, ln=1, align='C', fill=1)\n",
    "        self.ln(10)\n",
    "        \n",
    "        \n",
    "    def footer(self):\n",
    "        self.set_y(-15)\n",
    "        self.set_font('helvetica', 'I', 8)\n",
    "        self.set_text_color(169, 169, 169)\n",
    "        self.cell(0, 10, f\"Page{self.page_no()}\", align= 'C')\n",
    "        \n",
    "        \n",
    "        \n",
    "    def chapter_title(self, ch_num, ch_title, link):\n",
    "        \n",
    "        self.set_link(link)\n",
    "        self.set_font('helvetica', '', 12)\n",
    "        self.set_fill_color(200, 220, 255)\n",
    "        chapter_title= f'Section {ch_num} : {ch_title}'\n",
    "        self.cell(0, 5, chapter_title, ln=1, fill=1)\n",
    "        self.ln()\n",
    "    \n",
    "    \n",
    "    def chapter_body(self, name):\n",
    "        with open(name, 'rb') as fh:\n",
    "            txt = fh.read().decode('latin-1')\n",
    "        self.set_font('times', '', 12)\n",
    "        self.multi_cell(0, 5, txt)\n",
    "        self.ln()\n",
    "        \n",
    "        \n",
    "    def print_chapter(self, ch_num, ch_title, name, link):\n",
    "        self.add_page()\n",
    "        self.chapter_title(ch_num, ch_title, link)\n",
    "        self.chapter_body(name)\n",
    "        \n",
    "        \n",
    "        \n",
    "        \n",
    "        \n",
    "        \n",
    "pdf= PDF('P', 'mm', 'Letter')\n",
    "\n",
    "ch1_link=pdf.add_link()\n",
    "ch2_link=pdf.add_link()\n",
    "website= 'https://www.unimi.it/en'\n",
    "\n",
    "pdf.add_page()\n",
    "\n",
    "pdf.cell(0, 10, 'WWW.UNIMI.IT', ln = 1, align= 'R', link = website)\n",
    "\n",
    "pdf.set_title(title)\n",
    "\n",
    "pdf.set_auto_page_break(auto = True, margin = 15)\n",
    "\n",
    "pdf. image ('unimi_logo.png', x = -0.5, y=40, w= pdf.w/2, h=40)\n",
    "pdf.ln(60)\n",
    "\n",
    "pdf.cell(0, 10, 'Chapter 1', ln = 1, link =ch1_link)\n",
    "pdf.cell(0, 10, 'Chapter 2', ln = 1, link =ch2_link)\n",
    "\n",
    "pdf.image('unimi.jpg', 4, 150, 210, 70)\n",
    "\n",
    "pdf.print_chapter(1, 'Introduction', 'chp1.txt', ch1_link)\n",
    "tx_1='University of Milan offers several undergraduate and graduate programs in vast number of areas. This university located in Milano, Italy. It has 31 departments which are remarkebly interdisciplinary in their approach. Departments are the University organizing structure for scentific research, research and related educational activities. They are the sites where general strategic objectives are translated into specific action, where the integration of the knowledge and skills, even across departments is initiated and where research quality assurance processes are implemented.'\n",
    "tx_2= 'Master of Science in Data Science and Economics program in University of Milan aims to provide a modern and effective educational programme for students interested in data science issues with special focus on applications to the economic field. DSE strongly leverages STEM diciplines to provide a solid, coherent training on quantitative and methodological methods and tools of Information Technology (IT) as well as statistics and mathematics to interprete and analyze complex phenomena in the field of economy and business.'\n",
    "\n",
    "effective_page_width= pdf.w - 2*pdf.l_margin\n",
    "ybefore = pdf.get_y()\n",
    "pdf.set_fill_color(173, 216, 230)\n",
    "pdf.multi_cell(effective_page_width/2, 5, tx_1, fill=1, align='L')\n",
    "\n",
    "\n",
    "pdf.set_fill_color(211, 114, 54)\n",
    "pdf.set_xy(effective_page_width/2 + pdf.l_margin, ybefore)\n",
    "pdf.multi_cell(effective_page_width/2, 5, tx_2, fill=1, align='L')\n",
    "pdf.ln()\n",
    "\n",
    "pdf.image('unimi.jpg', 10, 140, 195, 80)\n",
    "pdf.print_chapter(2, 'Pictures', 'chp2.txt', ch2_link)\n",
    "pdf.image('unimi_fst.jpg', 10, 140, 195, 80)\n",
    "\n",
    "\n",
    "pdf.output('example.pdf')"
   ]
  },
  {
   "cell_type": "code",
   "execution_count": null,
   "id": "3c6fd9d3",
   "metadata": {},
   "outputs": [],
   "source": []
  }
 ],
 "metadata": {
  "kernelspec": {
   "display_name": "Python 3 (ipykernel)",
   "language": "python",
   "name": "python3"
  },
  "language_info": {
   "codemirror_mode": {
    "name": "ipython",
    "version": 3
   },
   "file_extension": ".py",
   "mimetype": "text/x-python",
   "name": "python",
   "nbconvert_exporter": "python",
   "pygments_lexer": "ipython3",
   "version": "3.9.7"
  }
 },
 "nbformat": 4,
 "nbformat_minor": 5
}
